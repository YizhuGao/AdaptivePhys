{
 "cells": [
  {
   "cell_type": "code",
   "execution_count": 6,
   "id": "f6e55045-86fe-46a8-8ef9-69585563e90f",
   "metadata": {
    "tags": []
   },
   "outputs": [
    {
     "name": "stdout",
     "output_type": "stream",
     "text": [
      "    user_id             skill_name  correct  correct_predictions   \n",
      "0  47922625         Nature_of_heat        1              0.49874  \\\n",
      "1  47922625         Nature_of_heat        1              0.99120   \n",
      "5  47922794  Nature_of_Temperature        0              0.00310   \n",
      "6  47922794  Nature_of_Temperature        1              0.49922   \n",
      "7  47922794  Nature_of_Temperature        0              0.49922   \n",
      "8  47922794  Nature_of_Temperature        0              0.49922   \n",
      "9  47922794  Nature_of_Temperature        1              0.49922   \n",
      "2  47923073         Nature_of_heat        0              0.49874   \n",
      "3  47923073         Nature_of_heat        0              0.50379   \n",
      "4  47923073         Nature_of_heat        1              0.50384   \n",
      "\n",
      "   state_predictions  \n",
      "0            0.49759  \n",
      "1            0.99629  \n",
      "5            0.00621  \n",
      "6            1.00000  \n",
      "7            1.00000  \n",
      "8            1.00000  \n",
      "9            1.00000  \n",
      "2            0.49759  \n",
      "3            0.50271  \n",
      "4            0.50276  \n"
     ]
    }
   ],
   "source": [
    "#Implementation of Baysian Knowledge Transfer Algorithm for Adpative Phys: Adaptive Learning System\n",
    "import pandas as pd\n",
    "from pyBKT.models import Model\n",
    "\n",
    "# Sample data\n",
    "data = {\n",
    "    'user_id': [47922625, 47922625, 47923073, 47923073, 47923073, 47922794, 47922794, 47922794, 47922794, 47922794],\n",
    "    'skill_name': ['Nature_of_heat', 'Nature_of_heat', 'Nature_of_heat', 'Nature_of_heat', 'Nature_of_heat', 'Nature_of_Temperature', 'Nature_of_Temperature', 'Nature_of_Temperature', 'Nature_of_Temperature', 'Nature_of_Temperature'],\n",
    "    'correct': [1, 1, 0, 0, 1, 0, 1, 0, 0, 1],\n",
    "}\n",
    "\n",
    "df = pd.DataFrame(data)\n",
    "\n",
    "# Define BKT parameters\n",
    "params = {\n",
    "    'learns': [0.1],\n",
    "    'forgets': [0.1],\n",
    "    'guesses': [0.2],\n",
    "    'slips': [0.1],\n",
    "    'priors': [0.2]\n",
    "}\n",
    "\n",
    "# Initialize the BKT model\n",
    "model = Model(seed=42, num_fits=10)\n",
    "\n",
    "# Fit the model\n",
    "model.fit(data=df, skills=['Nature_of_heat', 'Nature_of_Temperature'])\n",
    "\n",
    "# Manually set the parameters\n",
    "model.params = params\n",
    "\n",
    "# Refit the model with the parameters set\n",
    "model.fit(data=df, skills=['Nature_of_heat', 'Nature_of_Temperature'])\n",
    "\n",
    "# Predict the probabilities of knowing the concept\n",
    "predictions = model.predict(data=df)\n",
    "\n",
    "print(predictions)\n"
   ]
  },
  {
   "cell_type": "code",
   "execution_count": null,
   "id": "7de200b8-30b9-4462-9ddf-9206fc9f0642",
   "metadata": {},
   "outputs": [],
   "source": []
  }
 ],
 "metadata": {
  "kernelspec": {
   "display_name": "Python 3 (ipykernel)",
   "language": "python",
   "name": "python3"
  },
  "language_info": {
   "codemirror_mode": {
    "name": "ipython",
    "version": 3
   },
   "file_extension": ".py",
   "mimetype": "text/x-python",
   "name": "python",
   "nbconvert_exporter": "python",
   "pygments_lexer": "ipython3",
   "version": "3.11.1"
  }
 },
 "nbformat": 4,
 "nbformat_minor": 5
}
