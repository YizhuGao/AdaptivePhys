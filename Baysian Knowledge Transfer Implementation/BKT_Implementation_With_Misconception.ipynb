{
 "cells": [
  {
   "cell_type": "code",
   "execution_count": 6,
   "id": "670c9f17-80a4-41a2-ab9c-cb01073b3431",
   "metadata": {
    "tags": []
   },
   "outputs": [
    {
     "name": "stdout",
     "output_type": "stream",
     "text": [
      "    user_id                                         skill_name  correct   \n",
      "0  47923441               Heat is proportional to temperature.        0  \\\n",
      "1  47923441    Heat is not a measurable, quantifiable concept.        0   \n",
      "2  47923441               Heat is proportional to temperature.        1   \n",
      "3  47923441               Heat is proportional to temperature.        0   \n",
      "4  47923441           Heat and temperature are the same thing.        0   \n",
      "5  47923441           Heat and temperature are the same thing.        0   \n",
      "6  47923441  Heat and cold are different, rather than oppos...        1   \n",
      "7  47923441                               Heat is a substance.        1   \n",
      "8  47923441                               Heat is a substance.        0   \n",
      "9  47923441                                Heat is not energy.        0   \n",
      "\n",
      "   correct_predictions  state_predictions  \n",
      "0              0.32343            0.57739  \n",
      "1              0.50000            0.59001  \n",
      "2              0.33418            0.75289  \n",
      "3              0.34206            0.88163  \n",
      "4              0.00000            0.00533  \n",
      "5              0.00000            0.03813  \n",
      "6              0.50000            0.16305  \n",
      "7              0.50364            0.10277  \n",
      "8              0.49909            0.13884  \n",
      "9              0.50000            0.28422  \n"
     ]
    }
   ],
   "source": [
    "import pandas as pd\n",
    "from pyBKT.models import Model\n",
    "\n",
    "\n",
    "# Sample data with misconceptions\n",
    "data = {\n",
    "    'user_id': [47923441, 47923441, 47923441, 47923441, 47923441, 47923441],\n",
    "    #'question':[7,11,15,18,10,22] \n",
    "    'misconception': [['Heat is proportional to temperature.', 'Heat is not a measurable, quantifiable concept.'], ['Heat is proportional to temperature.'], ['Heat is proportional to temperature.', 'Heat and temperature are the same thing.'], ['Heat and temperature are the same thing.'], ['Heat and cold are different, rather than opposite ends of a continuum', 'Heat is a substance.'], ['Heat is a substance.', 'Heat is not energy.']],\n",
    "    'correct': [0, 1, 0, 0, 1, 0 ],\n",
    "}\n",
    "\n",
    "# Convert the data to a format suitable for BKT\n",
    "rows = []\n",
    "for i in range(len(data['user_id'])):\n",
    "    for misconception in data['misconception'][i]:\n",
    "        rows.append({\n",
    "            'user_id': data['user_id'][i],\n",
    "            'skill_name': misconception,  # Change column name to 'skill_name' for compatibility with pyBKT\n",
    "            'correct': data['correct'][i]\n",
    "        })\n",
    "\n",
    "df_expanded = pd.DataFrame(rows)\n",
    "\n",
    "# Define BKT parameters for misconceptions\n",
    "params = {\n",
    "    'learns': [0.1] * 4,\n",
    "    'forgets': [0.1] * 4,\n",
    "    'guesses': [0.2] * 4,\n",
    "    'slips': [0.1] * 4,\n",
    "    'priors': [0.2] * 4\n",
    "}\n",
    "\n",
    "# Initialize the BKT model\n",
    "model = Model(seed=42, num_fits=10)\n",
    "\n",
    "# Fit the model\n",
    "model.fit(data=df_expanded, skills=['Heat is proportional to temperature.', 'Heat is not a measurable, quantifiable concept.', 'Heat and temperature are the same thing.', 'Heat and cold are different, rather than opposite ends of a continuum', 'Heat is a substance.', 'Heat is not energy.'])\n",
    "\n",
    "# Manually set the parameters\n",
    "model.params = params\n",
    "\n",
    "# Predict the probabilities of knowing the concept\n",
    "predictions = model.predict(data=df_expanded)\n",
    "\n",
    "print(predictions)\n"
   ]
  },
  {
   "cell_type": "code",
   "execution_count": null,
   "id": "2d5f3e89-719d-4b2a-bf8b-4def722b6f29",
   "metadata": {},
   "outputs": [],
   "source": []
  }
 ],
 "metadata": {
  "kernelspec": {
   "display_name": "Python 3 (ipykernel)",
   "language": "python",
   "name": "python3"
  },
  "language_info": {
   "codemirror_mode": {
    "name": "ipython",
    "version": 3
   },
   "file_extension": ".py",
   "mimetype": "text/x-python",
   "name": "python",
   "nbconvert_exporter": "python",
   "pygments_lexer": "ipython3",
   "version": "3.11.1"
  }
 },
 "nbformat": 4,
 "nbformat_minor": 5
}
